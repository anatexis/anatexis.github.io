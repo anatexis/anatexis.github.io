{
 "cells": [
  {
   "cell_type": "raw",
   "id": "035a81ad",
   "metadata": {},
   "source": [
    "---\n",
    "author: [Christoph]\n",
    "date: 2023-05-23\n",
    "image: Binary_symmetric_channel.svg\n",
    "description: Just a test\n",
    "tags: [German]\n",
    "title: 'Chapter 1 Exercises to Information Theory, Inference and Learning Algorithms'\n",
    "---\n"
   ]
  },
  {
   "cell_type": "code",
   "execution_count": null,
   "id": "5b17e054",
   "metadata": {},
   "outputs": [],
   "source": [
    "import numpy as np\n",
    "import math\n",
    "from scipy.special import comb\n"
   ]
  },
  {
   "cell_type": "markdown",
   "id": "5dcbcf1f",
   "metadata": {},
   "source": [
    "\n",
    "## Exercise 1.2 \n",
    "(page 7)\n",
    "\n",
    "Show that the error probability is reduced by the use of\n",
    "R<sub>3</sub> by computing the error probability of this code for a binary symmetric\n",
    "channel with noise level f ."
   ]
  },
  {
   "cell_type": "markdown",
   "id": "351ef819",
   "metadata": {},
   "source": [
    "## Answer\n",
    "### Definitions"
   ]
  },
  {
   "cell_type": "markdown",
   "id": "8b76714f",
   "metadata": {},
   "source": [
    "**binary symmetric channel**: just two possible values (\"bits\": `0`and `1`), the bits will be flipped with the probability of $f$ (in the picture $p$):\n",
    "![binary symmetric channel](Binary_symmetric_channel.svg)\n"
   ]
  },
  {
   "cell_type": "markdown",
   "id": "8937739e",
   "metadata": {},
   "source": [
    "**R<sub>3</sub>**: for every bit three bits will be encoded, transmitted and then decoded: `0`-> `000`-> `0` The \"majority vote decoder\" will be used for decoding.[^1]\n",
    "\n",
    "[^1]: See page 6 of 'Exercises to Information Theory, Inference and Learning Algorithms'\n"
   ]
  },
  {
   "cell_type": "markdown",
   "id": "28eeec8b",
   "metadata": {},
   "source": [
    "### Explanations\n",
    "The error probability of one bit with no error correction is just $f$.\n",
    "\n",
    "For the R<sub>3</sub> the bit will be flipped when at least to bits are flipped. The probability of all three bits flipped is $f^{3}$ and the probability of 2 flipped bits ist given by\n",
    "\n",
    "$$P(r | f,N) = {N \\choose r} f^{r} (1-f)^{N-r} $$ with $N$ = 3 and $r$ = 2.\n",
    "\n"
   ]
  },
  {
   "cell_type": "markdown",
   "id": "80de0541",
   "metadata": {},
   "source": [
    "### Try it out with f=0.1\n"
   ]
  },
  {
   "cell_type": "code",
   "execution_count": null,
   "id": "f750ad82",
   "metadata": {},
   "outputs": [],
   "source": [
    "def binomial_probability(r, f, N):\n",
    "    return comb(N, r) * (f**r) * ((1-f)**(N-r))"
   ]
  },
  {
   "cell_type": "code",
   "execution_count": null,
   "id": "e3b77c8f",
   "metadata": {},
   "outputs": [
    {
     "name": "stdout",
     "output_type": "stream",
     "text": [
      "The probabilty of three bits flipped (0.001) + two bits flipped (0.027) is 0.028\n"
     ]
    }
   ],
   "source": [
    "f3 = round(binomial_probability(3,0.1,3),3)\n",
    "f2 = round(binomial_probability(2,0.1,3),3)\n",
    "print(f\"The probabilty of three bits flipped ({f3}) + two bits flipped ({f2}) is {f2+f3}\")"
   ]
  },
  {
   "cell_type": "code",
   "execution_count": null,
   "id": "693f141b",
   "metadata": {},
   "outputs": [],
   "source": []
  }
 ],
 "metadata": {
  "kernelspec": {
   "display_name": "python3",
   "language": "python",
   "name": "python3"
  }
 },
 "nbformat": 4,
 "nbformat_minor": 5
}
